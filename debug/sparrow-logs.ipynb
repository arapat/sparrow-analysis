{
 "cells": [
  {
   "cell_type": "code",
   "execution_count": 6,
   "metadata": {},
   "outputs": [],
   "source": [
    "if False:\n",
    "    LOG_DIR = \"../workbox/logs_synthetic/sd\""
   ]
  },
  {
   "cell_type": "code",
   "execution_count": 7,
   "metadata": {},
   "outputs": [],
   "source": [
    "import os\n",
    "\n",
    "LOG_PATH = os.path.join(LOG_DIR, \"training.log\")\n",
    "PERF_PATH = os.path.join(os.path.join(LOG_DIR, \"models\"), \"performance.csv\")\n",
    "XGB_LOG = os.path.join(LOG_DIR, \"xgboost.log\")"
   ]
  },
  {
   "cell_type": "code",
   "execution_count": 8,
   "metadata": {},
   "outputs": [],
   "source": [
    "%matplotlib inline\n",
    "\n",
    "from matplotlib import pyplot as plt\n",
    "from matplotlib import animation, rc\n",
    "from operator import itemgetter\n",
    "\n",
    "rc('animation', html='html5')"
   ]
  },
  {
   "cell_type": "code",
   "execution_count": 9,
   "metadata": {},
   "outputs": [],
   "source": [
    "channel_status = []\n",
    "with open(LOG_PATH) as f:\n",
    "    channel_status = list(filter(lambda s: \"channel status\" in s, f))"
   ]
  },
  {
   "cell_type": "code",
   "execution_count": 10,
   "metadata": {},
   "outputs": [],
   "source": [
    "channels = {}\n",
    "for line in channel_status:\n",
    "    line = line.strip().split(', ')\n",
    "    (name, _, income, _, outcome) = line[-5:]\n",
    "    timestamp = line[1]\n",
    "    if name not in channels:\n",
    "        channels[name] = []\n",
    "    channels[name].append(\n",
    "        (float(timestamp), float(income), float(outcome))\n",
    "    )"
   ]
  },
  {
   "cell_type": "code",
   "execution_count": 11,
   "metadata": {},
   "outputs": [
    {
     "data": {
      "text/plain": [
       "11"
      ]
     },
     "execution_count": 11,
     "metadata": {},
     "output_type": "execute_result"
    }
   ],
   "source": [
    "def get_key(s):\n",
    "    if s[0].startswith(\"stratum\"):\n",
    "        return (1, -int(s[0][s[0].find('(') + 1:-1]))\n",
    "    return (0, s[0])\n",
    "\n",
    "\n",
    "VERTICAL_LINE = None\n",
    "freq_rank = sorted(list(map(lambda k: (k, len(channels[k])), channels)),\n",
    "                   key=get_key, reverse=False)\n",
    "len(freq_rank)"
   ]
  },
  {
   "cell_type": "code",
   "execution_count": 12,
   "metadata": {
    "scrolled": true
   },
   "outputs": [],
   "source": [
    "def plot_strata():\n",
    "    COL = 2\n",
    "    ROW = int((len(freq_rank) + COL - 1) / COL)\n",
    "    fig, ax = plt.subplots(ROW, COL, figsize=(10 * COL, 6 * ROW))\n",
    "    color = ['r', 'b']\n",
    "    for i, (name, cnt) in enumerate(freq_rank[:]):\n",
    "        for j in [1, 2]:\n",
    "            x = list(map(itemgetter(0), channels[name]))\n",
    "            y = list(map(itemgetter(j), channels[name]))\n",
    "            if j == 1:\n",
    "                y = [val + 10 for val in y]\n",
    "                label = \"Enqueue\"\n",
    "            else:\n",
    "                y = [val - 110 for val in y]\n",
    "                label = \"Dequeue\"\n",
    "\n",
    "            ax[int(i / COL)][i % COL].scatter(x, y, c=color[j - 1], label=label)\n",
    "            ax[int(i / COL)][i % COL].set_title(\"Channel: %s, Sampled Freq: %d\" % (name, cnt))\n",
    "            ax[int(i / COL)][i % COL].set_xlabel(\"Inqueue Blocking Rate (%)\")\n",
    "            ax[int(i / COL)][i % COL].set_ylabel(\"Outqueue Blocking Rate (%)\")\n",
    "            ax[int(i / COL)][i % COL].set_ylim([-105, 105])\n",
    "            ax[int(i / COL)][i % COL].grid(True)\n",
    "            ax[int(i / COL)][i % COL].legend(loc=2)\n",
    "\n",
    "            if VERTICAL_LINE is not None:\n",
    "                ax[int(i / COL)][i % COL].axvline(VERTICAL_LINE)\n",
    "            ax[int(i / COL)][i % COL].set_yticks(list(range(-110, 0, 10)) + list(range(10, 110, 10)))\n",
    "            ax[int(i / COL)][i % COL].set_yticklabels(\n",
    "                list(range(0, 105, 10)) + [''] + list(range(0, 105, 10)))\n",
    "\n",
    "            # ax[int(i / COL)][i % COL].set_xlim([0, 1500])\n",
    "\n",
    "# plot_strata()"
   ]
  },
  {
   "cell_type": "code",
   "execution_count": null,
   "metadata": {},
   "outputs": [],
   "source": []
  },
  {
   "cell_type": "code",
   "execution_count": null,
   "metadata": {},
   "outputs": [],
   "source": []
  },
  {
   "cell_type": "markdown",
   "metadata": {},
   "source": [
    "## ESS"
   ]
  },
  {
   "cell_type": "code",
   "execution_count": 25,
   "metadata": {},
   "outputs": [],
   "source": [
    "import pandas as pd\n",
    "\n",
    "\n",
    "lines = []\n",
    "with open(LOG_PATH) as f:\n",
    "    lines = list(filter(lambda s: \"reset\" in s, f))\n",
    "ess = []\n",
    "for line in lines:\n",
    "    line = line.strip().split(', ')\n",
    "    ts, val = line[1], line[-1]\n",
    "    ess.append((float(ts), float(val)))\n",
    "\n",
    "lines = []\n",
    "with open(LOG_PATH) as f:\n",
    "    lines = list(filter(lambda s: \"switched-buffer\" in s, f))\n",
    "switched = []\n",
    "for line in lines:\n",
    "    line = line.strip().split(', ')\n",
    "    switched.append(float(line[1]))\n",
    "\n",
    "lines = []\n",
    "with open(LOG_PATH) as f:\n",
    "    lines = list(filter(lambda s: \"tree-node-info\" in s, f))\n",
    "tree_info = []\n",
    "for line in lines:\n",
    "    line = line.strip().split(', ')\n",
    "    ts, scanned, edge = line[1], line[4], line[5]\n",
    "    tree_info.append((float(ts), int(scanned), float(edge)))\n",
    "\n",
    "lines = []\n",
    "with open(LOG_PATH) as f:\n",
    "    lines = list(filter(lambda s: \"Validation\" in s, f))\n",
    "validation = []\n",
    "for line in lines:\n",
    "    line = line.strip().split(', ')\n",
    "    ts, val = line[1], line[-1].rsplit(' ', 1)[1]\n",
    "    validation.append((float(ts), float(val)))\n",
    "\n",
    "\n",
    "def plot_by_time():\n",
    "    fig, ax = plt.subplots(3, 1, figsize=(10, 18))\n",
    "\n",
    "    x = list(map(itemgetter(0), ess))\n",
    "    y = list(map(itemgetter(1), ess))\n",
    "    ax[0].plot(x, y, label=\"ESS\")\n",
    "    for ts in switched:\n",
    "        ax[0].axvline(ts, c='yellow')\n",
    "\n",
    "    x = list(map(itemgetter(0), tree_info))\n",
    "    y = list(map(itemgetter(2), tree_info))\n",
    "    ax[0].plot(x, y, label=\"Edge of the tree\")\n",
    "    ax[0].grid();\n",
    "    ax[0].set_title(\"Effective Sample Size\");\n",
    "    ax[0].set_xlabel(\"Time stamp\")\n",
    "    ax[0].legend()\n",
    "\n",
    "    x = list(map(itemgetter(0), tree_info))\n",
    "    y = list(range(1, len(tree_info) + 1))\n",
    "    ax[1].scatter(x, y)\n",
    "    ax[1].grid();\n",
    "    ax[1].set_title(\"Number of tree nodes\");\n",
    "    ax[1].set_xlabel(\"Time stamp\")\n",
    "    ax[1].set_ylabel(\"Number of tree nodes\");\n",
    "\n",
    "\n",
    "    x = list(map(itemgetter(0), validation))\n",
    "    y = list(map(itemgetter(1), validation))\n",
    "    ax[2].scatter(x, y)\n",
    "    ax[2].grid();\n",
    "    ax[2].set_title(\"Potential (Exponential Loss)\");\n",
    "    ax[2].set_xlabel(\"Time stamp\")\n",
    "    ax[2].set_ylabel(\"Potential (Exponential Loss)\");"
   ]
  },
  {
   "cell_type": "code",
   "execution_count": 54,
   "metadata": {},
   "outputs": [],
   "source": [
    "performance = pd.read_csv(\n",
    "    PERF_PATH,\n",
    "    names=[\"filename\", \"timestamp\", \"size\", \"potential\", \"AUPRC\", \"AUROC\"]\n",
    ")\n",
    "\n",
    "\n",
    "def plot_performance(ax, by, y):\n",
    "    for i, name in enumerate(y):\n",
    "        performance.plot(\n",
    "            x=by, y=name, ax=ax[i]\n",
    "        )\n",
    "        ax[i].grid()\n",
    "        ax[i].set_title(name)\n",
    "\n",
    "def plot_by_timestamp(ax):\n",
    "    plot_performance(ax, \"timestamp\", [\"size\", \"potential\", \"AUPRC\", \"AUROC\"])\n",
    "\n",
    "def plot_by_size(ax):\n",
    "    plot_performance(ax, \"size\", [\"potential\", \"AUPRC\", \"AUROC\"])"
   ]
  },
  {
   "cell_type": "code",
   "execution_count": 32,
   "metadata": {},
   "outputs": [],
   "source": [
    "# fig, ax = plt.subplots(3, 2, figsize=(20, 18))\n",
    "# plot_by_size([ax[i][0] for i in range(3)])"
   ]
  },
  {
   "cell_type": "code",
   "execution_count": null,
   "metadata": {},
   "outputs": [],
   "source": []
  },
  {
   "cell_type": "markdown",
   "metadata": {},
   "source": [
    "# XGBoost logs"
   ]
  },
  {
   "cell_type": "code",
   "execution_count": 55,
   "metadata": {},
   "outputs": [],
   "source": [
    "lines = []\n",
    "with open(XGB_LOG) as f:\n",
    "    lines = list(filter(lambda s: \"eval,\" in s, f))\n",
    "v_size, v_potential, v_auprc, v_auroc = [], [], [], []\n",
    "for line in lines:\n",
    "    line = line.strip().split(',')\n",
    "    size, potential, auprc, auroc = line[-4:]\n",
    "    v_size.append(int(size))\n",
    "    v_potential.append(float(potential))\n",
    "    v_auprc.append(float(auprc))\n",
    "    v_auroc.append(float(auroc))\n",
    "lines = []\n",
    "with open(XGB_LOG) as f:\n",
    "    lines = list(filter(lambda s: \"new tree,\" in s, f))\n",
    "v_ts = []\n",
    "for line in lines:\n",
    "    line = line.strip().split(',')\n",
    "    ts = line[0]\n",
    "    v_ts.append(float(ts))\n",
    "\n",
    "xgb = pd.DataFrame(data={\n",
    "    \"XGB ts\": v_ts,\n",
    "    \"XGB size\": v_size,\n",
    "    \"XGB potential\": v_potential,\n",
    "    \"XGB AUPRC\": v_auprc,\n",
    "    \"XGB AUROC\": v_auroc,\n",
    "})"
   ]
  },
  {
   "cell_type": "code",
   "execution_count": 60,
   "metadata": {},
   "outputs": [],
   "source": [
    "def plot_xgb_performance(ax, by, y):\n",
    "    for i, name in enumerate(y):\n",
    "        xgb.plot(\n",
    "            x=by, y=name, ax=ax[i]\n",
    "        )\n",
    "        ax[i].grid()\n",
    "        ax[i].set_title(name)\n",
    "\n",
    "\n",
    "def plot_xgb_by_timestamp(ax):\n",
    "    plot_xgb_performance(ax, \"XGB ts\", [\"XGB size\", \"XGB potential\", \"XGB AUPRC\", \"XGB AUROC\"])\n",
    "\n",
    "\n",
    "def plot_xgb_by_size(ax):\n",
    "    plot_xgb_performance(ax, \"XGB size\", [\"XGB potential\", \"XGB AUPRC\", \"XGB AUROC\"])"
   ]
  },
  {
   "cell_type": "code",
   "execution_count": 59,
   "metadata": {},
   "outputs": [
    {
     "data": {
      "image/png": "[encoded data removed]",
      "text/plain": [
       "<matplotlib.figure.Figure at 0x11e8d0d68>"
      ]
     },
     "metadata": {},
     "output_type": "display_data"
    }
   ],
   "source": [
    "# fig, ax = plt.subplots(3, 1, figsize=(10, 18))\n",
    "# plot_by_size(ax)\n",
    "# plot_xgb_by_size(ax)"
   ]
  },
  {
   "cell_type": "code",
   "execution_count": null,
   "metadata": {},
   "outputs": [],
   "source": []
  },
  {
   "cell_type": "markdown",
   "metadata": {},
   "source": [
    "# Weights distribution"
   ]
  },
  {
   "cell_type": "code",
   "execution_count": 14,
   "metadata": {},
   "outputs": [],
   "source": [
    "with open(LOG_PATH) as f:\n",
    "    lines = f.readlines()\n",
    "    weights = list(filter(lambda s: \"strata weights distr\" in s, lines))\n",
    "    counts = list(filter(lambda s: \"strata counts distr\" in s, lines))\n",
    "\n",
    "weights_distr = []\n",
    "counts_distr = []\n",
    "for i in range(len(weights)):\n",
    "    index = weights[i].find(\"strata weights distr\")\n",
    "    pairs = weights[i][index:].strip().split(\", \", 1)[1].rsplit(\", \", 1)[0][1:-1].split(\"), (\")\n",
    "    x = list(map(lambda s: int(s.split(', ')[0]), pairs))\n",
    "    y = list(map(lambda s: float(s.split(', ')[1]), pairs))\n",
    "    weights_distr.append((x, y))\n",
    "\n",
    "    index = counts[i].find(\"strata counts distr\")\n",
    "    pairs = counts[i][index:].strip().split(\", \", 1)[1].rsplit(\", \", 1)[0][1:-1].split(\"), (\")\n",
    "    x = list(map(lambda s: int(s.split(', ')[0]), pairs))\n",
    "    y = list(map(lambda s: float(s.split(', ')[1]), pairs))\n",
    "    counts_distr.append((x, y))"
   ]
  },
  {
   "cell_type": "code",
   "execution_count": 15,
   "metadata": {},
   "outputs": [
    {
     "data": {
      "text/plain": [
       "(27, 27)"
      ]
     },
     "execution_count": 15,
     "metadata": {},
     "output_type": "execute_result"
    }
   ],
   "source": [
    "all_w = set([])\n",
    "for (w, d) in weights_distr:\n",
    "    all_w = all_w.union(w)\n",
    "all_w = sorted(list(all_w))\n",
    "for i in range(len(weights_distr)):\n",
    "    x, y = weights_distr[i]\n",
    "    xymap = {a: b for a, b in zip(x, y)}\n",
    "    weights_distr[i] = (all_w, [xymap.get(k, 0.0) for k in all_w])\n",
    "    x, y = counts_distr[i]\n",
    "    xymap = {a: b for a, b in zip(x, y)}\n",
    "    counts_distr[i] = (all_w, [xymap.get(k, 0.0) for k in all_w])\n",
    "\n",
    "len(weights_distr), len(counts_distr)"
   ]
  },
  {
   "cell_type": "code",
   "execution_count": null,
   "metadata": {},
   "outputs": [],
   "source": [
    "\"\"\"\n",
    "import numpy as np\n",
    "from matplotlib.animation import FuncAnimation\n",
    "\n",
    "fig, ax = plt.subplots(1, 2, figsize=(14, 6))\n",
    "\n",
    "line0a, = ax[0].plot(weights_distr[6000][0], weights_distr[6000][1], label=\"PDF\")\n",
    "line1a, = ax[1].plot(counts_distr[6000][0], counts_distr[6000][1], label=\"PDF\")\n",
    "\n",
    "line0b, = ax[0].plot(weights_distr[6000][0], np.cumsum(weights_distr[6000][1]), label=\"CDF\")\n",
    "line1b, = ax[1].plot(counts_distr[6000][0], np.cumsum(counts_distr[6000][1]), label=\"CDF\")\n",
    "\n",
    "ax[0].legend(loc=1)\n",
    "ax[1].legend(loc=1)\n",
    "\n",
    "ax[0].set_ylim(0.0, 100.0)\n",
    "ax[0].set_title(\"Weights Distribution\")\n",
    "ax[1].set_ylim(0.0, 100.0)\n",
    "ax[1].set_title(\"Distribution of the Number of Examples\")\n",
    "\n",
    "ax[0].set_xlabel(\"Strata Index (log of weight)\")\n",
    "ax[1].set_xlabel(\"Strata Index (log of weight)\")\n",
    "ax[0].set_ylabel(\"%\")\n",
    "\n",
    "\n",
    "def update(i):\n",
    "    label = 'timestep {0}'.format(i)\n",
    "    line0a.set_ydata(weights_distr[i][1])\n",
    "    line1a.set_ydata(counts_distr[i][1])\n",
    "    line0b.set_ydata(np.cumsum(weights_distr[i][1]))\n",
    "    line1b.set_ydata(np.cumsum(counts_distr[i][1]))\n",
    "    fig.suptitle(label)\n",
    "    return line, ax\n",
    "\n",
    "\n",
    "anim = FuncAnimation(fig, update,\n",
    "                     frames=np.arange(0, 2000, 10),\n",
    "                     interval=100)\n",
    "anim\n",
    "\"\"\""
   ]
  },
  {
   "cell_type": "code",
   "execution_count": null,
   "metadata": {},
   "outputs": [],
   "source": []
  }
 ],
 "metadata": {
  "kernelspec": {
   "display_name": "Python 3",
   "language": "python",
   "name": "python3"
  },
  "language_info": {
   "codemirror_mode": {
    "name": "ipython",
    "version": 3
   },
   "file_extension": ".py",
   "mimetype": "text/x-python",
   "name": "python",
   "nbconvert_exporter": "python",
   "pygments_lexer": "ipython3",
   "version": "3.6.3"
  }
 },
 "nbformat": 4,
 "nbformat_minor": 2
}
